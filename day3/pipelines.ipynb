{
 "cells": [
  {
   "cell_type": "code",
   "execution_count": 0,
   "metadata": {
    "application/vnd.databricks.v1+cell": {
     "cellMetadata": {
      "byteLimit": 2048000,
      "rowLimit": 10000
     },
     "inputWidgets": {},
     "nuid": "973ff58a-f6b4-4b0c-8db3-8097fb279034",
     "showTitle": false,
     "tableResultSettingsMap": {},
     "title": ""
    }
   },
   "outputs": [],
   "source": [
    "CREATE OR REFRESH STREAMING TABLE sales_dlt\n",
    "AS SELECT *,current_timestamp() as ingestion_date FROM STREAM read_files(\n",
    "  \"/Volumes/dev/naval/sales/\",\n",
    "   format => \"csv\"\n",
    "   );"
   ]
  },
  {
   "cell_type": "code",
   "execution_count": 0,
   "metadata": {
    "application/vnd.databricks.v1+cell": {
     "cellMetadata": {
      "byteLimit": 2048000,
      "rowLimit": 10000
     },
     "inputWidgets": {},
     "nuid": "4751919c-4296-4aa0-8391-9b29d384a3d1",
     "showTitle": false,
     "tableResultSettingsMap": {},
     "title": ""
    },
    "jupyter": {
     "outputs_hidden": true
    }
   },
   "outputs": [],
   "source": [
    "create or refresh streaming table chiranjeevi_silver.sales_dlt_clean \n",
    "(CONSTRAINT valid_order_id EXPECT (order_id IS NOT NULL) ON VIOLATION DROP ROW)\n",
    "as select distinct * except(_rescued_data,ingestion_date ) from stream(sales_dlt)"
   ]
  },
  {
   "cell_type": "code",
   "execution_count": 0,
   "metadata": {
    "application/vnd.databricks.v1+cell": {
     "cellMetadata": {
      "byteLimit": 2048000,
      "rowLimit": 10000
     },
     "inputWidgets": {},
     "nuid": "13c6d4e1-cdbd-4f59-82be-582242eed0aa",
     "showTitle": false,
     "tableResultSettingsMap": {},
     "title": ""
    }
   },
   "outputs": [],
   "source": [
    "CREATE OR REFRESH STREAMING TABLE customers_dlt\n",
    "AS SELECT *, current_timestamp() as ingestion_date FROM STREAM read_files(\n",
    "  \"/Volumes/dev/naval/customers/\",\n",
    "   format => \"csv\"\n",
    "   );"
   ]
  },
  {
   "cell_type": "code",
   "execution_count": 0,
   "metadata": {
    "application/vnd.databricks.v1+cell": {
     "cellMetadata": {
      "byteLimit": 2048000,
      "rowLimit": 10000
     },
     "inputWidgets": {},
     "nuid": "4a41b927-f5cc-44c8-97e9-1d96d8b07b4c",
     "showTitle": false,
     "tableResultSettingsMap": {},
     "title": ""
    }
   },
   "outputs": [],
   "source": [
    "-- Create and populate the target table.\n",
    "CREATE OR REFRESH STREAMING TABLE chiranjeevi_silver.customer_silver_scd;\n",
    "\n",
    "APPLY CHANGES INTO\n",
    " chiranjeevi_silver.customer_silver_scd\n",
    "FROM\n",
    "  stream(customers_dlt)\n",
    "KEYS\n",
    "  (customer_id)\n",
    "APPLY AS DELETE WHEN\n",
    "  operation = \"DELETE\"\n",
    "SEQUENCE BY\n",
    "  sequenceNum\n",
    "COLUMNS * EXCEPT\n",
    "  (operation, sequenceNum, ingestion_date)\n",
    "STORED AS\n",
    "  SCD TYPE 2;"
   ]
  },
  {
   "cell_type": "code",
   "execution_count": 0,
   "metadata": {
    "application/vnd.databricks.v1+cell": {
     "cellMetadata": {
      "byteLimit": 2048000,
      "rowLimit": 10000
     },
     "inputWidgets": {},
     "nuid": "7636d7e7-d4ea-406a-b18d-6225327ed031",
     "showTitle": false,
     "tableResultSettingsMap": {},
     "title": ""
    }
   },
   "outputs": [],
   "source": [
    "-- Create and populate the target table.\n",
    "CREATE OR REFRESH STREAMING TABLE chiranjeevi_silver.products_dlt_scd1;\n",
    "\n",
    "APPLY CHANGES INTO\n",
    "  chiranjeevi_silver.products_dlt_scd1\n",
    "FROM\n",
    "  stream(products_dlt)\n",
    "KEYS\n",
    "  (product_id)\n",
    "APPLY AS DELETE WHEN\n",
    "  operation = \"DELETE\"\n",
    "SEQUENCE BY\n",
    "  seqNum\n",
    "COLUMNS * EXCEPT\n",
    "  (operation, seqNum, ingestion_date)\n",
    "STORED AS\n",
    "  SCD TYPE 1;"
   ]
  },
  {
   "cell_type": "code",
   "execution_count": 0,
   "metadata": {
    "application/vnd.databricks.v1+cell": {
     "cellMetadata": {
      "byteLimit": 2048000,
      "rowLimit": 10000
     },
     "inputWidgets": {},
     "nuid": "a5a289d8-9c32-4e12-8930-b78b483f4e37",
     "showTitle": false,
     "tableResultSettingsMap": {},
     "title": ""
    }
   },
   "outputs": [],
   "source": [
    "CREATE OR REFRESH STREAMING TABLE products_dlt\n",
    "AS SELECT *,current_timestamp() as ingestion_date FROM STREAM read_files(\n",
    "  \"/Volumes/dev/naval/products/\",\n",
    "   format => \"csv\"\n",
    "   );"
   ]
  },
  {
   "cell_type": "code",
   "execution_count": 0,
   "metadata": {
    "application/vnd.databricks.v1+cell": {
     "cellMetadata": {
      "byteLimit": 2048000,
      "rowLimit": 10000
     },
     "inputWidgets": {},
     "nuid": "2ff91830-26c1-4866-bce8-f03993bf7b45",
     "showTitle": false,
     "tableResultSettingsMap": {},
     "title": ""
    }
   },
   "outputs": [],
   "source": [
    "create or refresh materialized view chiranjeevi_gold.customers_active as \n",
    "select * from chiranjeevi_silver.customer_silver_scd where `__END_AT` is null"
   ]
  },
  {
   "cell_type": "code",
   "execution_count": 0,
   "metadata": {
    "application/vnd.databricks.v1+cell": {
     "cellMetadata": {
      "byteLimit": 2048000,
      "rowLimit": 10000
     },
     "inputWidgets": {},
     "nuid": "feace699-fd9f-4ebf-a438-6961c0de2340",
     "showTitle": false,
     "tableResultSettingsMap": {},
     "title": ""
    }
   },
   "outputs": [],
   "source": [
    "create or refresh materialized view chiranjeevi_gold.summary as \n",
    "(SELECT \n",
    "    sales.order_id,\n",
    "    sales.customer_id,\n",
    "    sales.transaction_id,\n",
    "    sales.product_id,\n",
    "    sales.quantity,\n",
    "    sales.discount_amount,\n",
    "    sales.total_amount,\n",
    "    sales.order_date,\n",
    "    products.product_name,\n",
    "    products.product_category,\n",
    "    products.product_price,\n",
    "    customers.customer_name,\n",
    "    customers.customer_email\n",
    "FROM \n",
    "    chiranjeevi_silver.sales_dlt_clean AS sales\n",
    "JOIN \n",
    "   chiranjeevi_silver.products_dlt_scd1 AS products\n",
    "ON \n",
    "    sales.product_id = products.product_id\n",
    "JOIN \n",
    "    chiranjeevi_gold.customers_active AS customers\n",
    "ON \n",
    "    sales.customer_id = customers.customer_id)"
   ]
  }
 ],
 "metadata": {
  "application/vnd.databricks.v1+notebook": {
   "computePreferences": null,
   "dashboards": [],
   "environmentMetadata": {
    "base_environment": "",
    "environment_version": "2"
   },
   "inputWidgetPreferences": null,
   "language": "sql",
   "notebookMetadata": {
    "pythonIndentUnit": 4
   },
   "notebookName": "pipelines",
   "widgets": {}
  },
  "language_info": {
   "name": "sql"
  }
 },
 "nbformat": 4,
 "nbformat_minor": 0
}
