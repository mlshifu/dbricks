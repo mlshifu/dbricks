{
 "cells": [
  {
   "cell_type": "code",
   "execution_count": 0,
   "metadata": {
    "application/vnd.databricks.v1+cell": {
     "cellMetadata": {
      "byteLimit": 2048000,
      "implicitDf": true,
      "rowLimit": 10000
     },
     "inputWidgets": {},
     "nuid": "6c59031d-a5d8-4dee-9d05-12e8e5c50061",
     "showTitle": false,
     "tableResultSettingsMap": {},
     "title": ""
    }
   },
   "outputs": [],
   "source": [
    "%sql\n",
    "create or replace view dev.chiranjeevi_gold.trans_customer_info as \n",
    "(SELECT t.transaction_id, t.amount, t.transaction_type, t.timestamp,\n",
    "       c.name AS customer_name, c.email, a.account_type, a.account_balance\n",
    "FROM dev.chiranjeevi_silver.transaction t\n",
    "LEFT JOIN dev.chiranjeevi_silver.customer_profile c ON t.customer_id = c.customer_id\n",
    "LEFT JOIN dev.chiranjeevi_silver.account_info a ON t.customer_id = a.customer_id)"
   ]
  },
  {
   "cell_type": "code",
   "execution_count": 0,
   "metadata": {
    "application/vnd.databricks.v1+cell": {
     "cellMetadata": {
      "byteLimit": 2048000,
      "implicitDf": true,
      "rowLimit": 10000
     },
     "inputWidgets": {},
     "nuid": "d8d9d89b-1fcb-4576-9131-c887b4e64027",
     "showTitle": false,
     "tableResultSettingsMap": {},
     "title": ""
    }
   },
   "outputs": [],
   "source": [
    "%sql\n",
    "create or replace view dev.chiranjeevi_gold.total_amount_per_customer as \n",
    "(SELECT customer_id, SUM(amount) as total_amount, COUNT(*) as txn_count\n",
    "FROM dev.chiranjeevi_silver.transaction\n",
    "GROUP BY customer_id)"
   ]
  }
 ],
 "metadata": {
  "application/vnd.databricks.v1+notebook": {
   "computePreferences": null,
   "dashboards": [],
   "environmentMetadata": {
    "base_environment": "",
    "environment_version": "2"
   },
   "inputWidgetPreferences": null,
   "language": "python",
   "notebookMetadata": {
    "mostRecentlyExecutedCommandWithImplicitDF": {
     "commandId": 8552167711994381,
     "dataframes": [
      "_sqldf"
     ]
    },
    "pythonIndentUnit": 4
   },
   "notebookName": "gold ingestion",
   "widgets": {}
  },
  "language_info": {
   "name": "python"
  }
 },
 "nbformat": 4,
 "nbformat_minor": 0
}
